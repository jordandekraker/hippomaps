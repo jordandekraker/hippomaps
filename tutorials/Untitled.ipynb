{
 "cells": [
  {
   "cell_type": "code",
   "execution_count": 1,
   "id": "34f2302e-6007-4cba-b978-fc6df3cf3ae4",
   "metadata": {},
   "outputs": [],
   "source": [
    "import hippomaps as hm\n",
    "import numpy as np"
   ]
  },
  {
   "cell_type": "code",
   "execution_count": 2,
   "id": "1fbf06f6-b9f1-452b-accf-567c250a930d",
   "metadata": {},
   "outputs": [
    {
     "data": {
      "text/plain": [
       "array([[  419,  2004,  7262, 32004],\n",
       "       [   64,   449,  1788,  7620]])"
      ]
     },
     "execution_count": 2,
     "metadata": {},
     "output_type": "execute_result"
    }
   ],
   "source": [
    "hm.config.nVertices"
   ]
  },
  {
   "cell_type": "code",
   "execution_count": 14,
   "id": "eb72084e-2828-4416-87df-f18ee59b1361",
   "metadata": {},
   "outputs": [],
   "source": [
    "labels = ['dentate',hi]\n",
    "den = '2mm'"
   ]
  },
  {
   "cell_type": "code",
   "execution_count": 15,
   "id": "d05f3346-f75e-48ad-ab71-76d491ff6408",
   "metadata": {},
   "outputs": [
    {
     "data": {
      "text/plain": [
       "[range(0, 64)]"
      ]
     },
     "execution_count": 15,
     "metadata": {},
     "output_type": "execute_result"
    }
   ],
   "source": [
    "nv,iv = hm.config.get_nVertices(labels,den)\n",
    "nv\n",
    "iv"
   ]
  },
  {
   "cell_type": "code",
   "execution_count": 5,
   "id": "1ccf22ea-a87a-4136-9fbb-b43edf13e618",
   "metadata": {},
   "outputs": [],
   "source": [
    "iLabels = np.where(np.in1d(hm.config.labelNames, labels))[0]\n",
    "idens = np.where(np.in1d(hm.config.densityNames, den))[0]\n",
    "nV = np.sum(hm.config.nVertices[iLabels,idens[0]])\n",
    "iV = []\n",
    "iV.append(range(hm.config.nVertices[iLabels[0],idens[0]]))\n",
    "if len(iLabels)>1:\n",
    "   iV.append(range(hm.config.nVertices[iLabels[0],idens[0]], nV))"
   ]
  },
  {
   "cell_type": "code",
   "execution_count": 6,
   "id": "868bbb4a-501f-41eb-9ee9-d02f7ddb3b45",
   "metadata": {},
   "outputs": [
    {
     "data": {
      "text/plain": [
       "7262"
      ]
     },
     "execution_count": 6,
     "metadata": {},
     "output_type": "execute_result"
    }
   ],
   "source": [
    "hm.config.nVertices[iLabels[0],idens[0]]"
   ]
  },
  {
   "cell_type": "code",
   "execution_count": 7,
   "id": "8c8c5a95-f836-48f6-ac29-c4eebf7793a4",
   "metadata": {},
   "outputs": [
    {
     "data": {
      "text/plain": [
       "7262"
      ]
     },
     "execution_count": 7,
     "metadata": {},
     "output_type": "execute_result"
    }
   ],
   "source": [
    "hm.config.nVertices[iLabels[0],idens[0]]"
   ]
  },
  {
   "cell_type": "code",
   "execution_count": 8,
   "id": "04336cc2-4a9b-4000-ad98-9c65c1bd7c86",
   "metadata": {},
   "outputs": [
    {
     "data": {
      "text/plain": [
       "range(7262, 9050)"
      ]
     },
     "execution_count": 8,
     "metadata": {},
     "output_type": "execute_result"
    }
   ],
   "source": [
    "range(hm.config.nVertices[iLabels[0],idens[0]], nV)"
   ]
  },
  {
   "cell_type": "code",
   "execution_count": 9,
   "id": "b239cc98-cce0-4fad-8c2f-2ad0496b023f",
   "metadata": {},
   "outputs": [
    {
     "data": {
      "text/plain": [
       "[range(0, 7262), range(7262, 9050)]"
      ]
     },
     "execution_count": 9,
     "metadata": {},
     "output_type": "execute_result"
    }
   ],
   "source": [
    "iV"
   ]
  },
  {
   "cell_type": "code",
   "execution_count": null,
   "id": "ef0aa1da-2f18-421b-91d8-ae654c6b20bf",
   "metadata": {},
   "outputs": [],
   "source": []
  }
 ],
 "metadata": {
  "kernelspec": {
   "display_name": "venv",
   "language": "python",
   "name": "venv"
  },
  "language_info": {
   "codemirror_mode": {
    "name": "ipython",
    "version": 3
   },
   "file_extension": ".py",
   "mimetype": "text/x-python",
   "name": "python",
   "nbconvert_exporter": "python",
   "pygments_lexer": "ipython3",
   "version": "3.8.0"
  },
  "widgets": {
   "application/vnd.jupyter.widget-state+json": {
    "state": {},
    "version_major": 2,
    "version_minor": 0
   }
  }
 },
 "nbformat": 4,
 "nbformat_minor": 5
}
